{
 "cells": [
  {
   "cell_type": "code",
   "execution_count": 93,
   "metadata": {},
   "outputs": [],
   "source": [
    "import pandas as pd\n",
    "import numpy as np\n",
    "\n",
    "# Reading the Dataset from covid-19-dashboard(Massachusetts)\n",
    "covid_19 = pd.ExcelFile('/Users/omkarsadekar/Documents/NEU Study Material/NEU Study Material/Healthcare Data and Applications/Project Datasets/covid-19-dashboard-02-29-24.xlsx')\n",
    "#Reading the Datasets from respiratory disease data reporting dashboard\n",
    "respiratory_data = pd.ExcelFile('/Users/omkarsadekar/Documents/NEU Study Material/NEU Study Material/Healthcare Data and Applications/Project Datasets/respiratory-disease-data-reporting-02-29-24.xlsx')\n",
    "#Reading the datasets from \n",
    "#Create dataframes for each sheet\n",
    "df_cv_Week = pd.read_excel(covid_19, 'Weekly Cases and Deaths')\n",
    "df_cv_Case_Death_Demographics = pd.read_excel(covid_19, 'Case and Death Demographics')\n",
    "df_cv_county = pd.read_excel(covid_19, 'County Data')\n",
    "df_cv_city = pd.read_excel(covid_19, 'City and Town Data') \n",
    "df_visits = pd.read_excel(respiratory_data, 'Visits by week')\n",
    "df_season = pd.read_excel(respiratory_data, 'Previous Seasons by Week')\n",
    "df_patient_demographics = pd.read_excel(respiratory_data, 'Data by Patient Demographics')\n",
    "df_historic_demographics = pd.read_excel(respiratory_data, 'Historic demographic data')\n",
    "df_visits_by_county = pd.read_excel(respiratory_data, 'Visits by Hospital County')"
   ]
  },
  {
   "cell_type": "code",
   "execution_count": 94,
   "metadata": {},
   "outputs": [],
   "source": [
    "# #Save the csv files\n",
    "# df_cv_Week.to_csv('/Users/omkarsadekar/Documents/NEU Study Material/NEU Study Material/Healthcare Data and Applications/Project Datasets/Mass_Data/covid_19_Week.csv', index=False)\n",
    "# df_cv_Case_Death_Demographics.to_csv('/Users/omkarsadekar/Documents/NEU Study Material/NEU Study Material/Healthcare Data and Applications/Project Datasets/Mass_Data/covid_19_Case_Death_Demographics.csv', index=False)\n",
    "# df_cv_county.to_csv('/Users/omkarsadekar/Documents/NEU Study Material/NEU Study Material/Healthcare Data and Applications/Project Datasets/Mass_Data/covid_19_county.csv', index=False)\n",
    "# df_cv_city.to_csv('/Users/omkarsadekar/Documents/NEU Study Material/NEU Study Material/Healthcare Data and Applications/Project Datasets/Mass_Data/covid_19_city.csv', index=False)\n",
    "# df_visits.to_csv('/Users/omkarsadekar/Documents/NEU Study Material/NEU Study Material/Healthcare Data and Applications/Project Datasets/Mass_Data/respiratory_visits.csv', index=False)\n",
    "# df_season.to_csv('/Users/omkarsadekar/Documents/NEU Study Material/NEU Study Material/Healthcare Data and Applications/Project Datasets/Mass_Data/respiratory_season.csv', index=False)\n",
    "# df_patient_demographics.to_csv('/Users/omkarsadekar/Documents/NEU Study Material/NEU Study Material/Healthcare Data and Applications/Project Datasets/Mass_Data/respiratory_patient_demographics.csv', index=False)\n",
    "# df_historic_demographics.to_csv('/Users/omkarsadekar/Documents/NEU Study Material/NEU Study Material/Healthcare Data and Applications/Project Datasets/Mass_Data/respiratory_historic_demographics.csv', index=False)\n",
    "# df_visits_by_county.to_csv('/Users/omkarsadekar/Documents/NEU Study Material/NEU Study Material/Healthcare Data and Applications/Project Datasets/Mass_Data/respiratory_visits_by_county.csv', index=False)\n"
   ]
  },
  {
   "cell_type": "code",
   "execution_count": 95,
   "metadata": {},
   "outputs": [],
   "source": [
    "#Merge the datasets\n",
    "#Merge the covid-19 datasets\n",
    "covid_deaths_demographics_df = pd.merge(df_cv_Case_Death_Demographics, df_cv_Week, \n",
    "              on=['Week Start Date', 'Week End Date'],\n",
    "              how = 'inner')"
   ]
  },
  {
   "cell_type": "code",
   "execution_count": 96,
   "metadata": {},
   "outputs": [],
   "source": [
    "# #Save covid-19 merged dataset\n",
    "# covid_mass_df.to_csv('/Users/omkarsadekar/Documents/NEU Study Material/NEU Study Material/Healthcare Data and Applications/Project Datasets/Mass_Data/covid_mass_df.csv', index=False)"
   ]
  },
  {
   "cell_type": "code",
   "execution_count": 97,
   "metadata": {},
   "outputs": [],
   "source": [
    "#Merge the respiratory datasets\n",
    "respiratory_df = pd.merge(df_visits_by_county, df_patient_demographics,\n",
    "                            on = ['Week Start Date', 'Week End Date'],\n",
    "                            how = 'inner')\n",
    "# respiratory_df.to_csv('/Users/omkarsadekar/Documents/NEU Study Material/NEU Study Material/Healthcare Data and Applications/Project Datasets/Mass_Data/respiratory_df.csv', index=False)\n"
   ]
  },
  {
   "cell_type": "code",
   "execution_count": 98,
   "metadata": {},
   "outputs": [
    {
     "data": {
      "text/plain": [
       "(68260, 21)"
      ]
     },
     "execution_count": 98,
     "metadata": {},
     "output_type": "execute_result"
    }
   ],
   "source": [
    "respiratory_df.shape"
   ]
  },
  {
   "cell_type": "code",
   "execution_count": 99,
   "metadata": {},
   "outputs": [
    {
     "data": {
      "text/plain": [
       "(680, 23)"
      ]
     },
     "execution_count": 99,
     "metadata": {},
     "output_type": "execute_result"
    }
   ],
   "source": [
    "covid_deaths_demographics_df.shape"
   ]
  },
  {
   "cell_type": "code",
   "execution_count": 100,
   "metadata": {},
   "outputs": [
    {
     "data": {
      "text/plain": [
       "Index(['Season', 'Week Start Date', 'Week End Date', 'Group', 'Subgroup',\n",
       "       'Estimated population', 'Percent of the population',\n",
       "       'Cases during this week', 'Week case rate', 'Cumulative cases',\n",
       "       'Cumulative case rate', 'Deaths during this week', 'Week death rate',\n",
       "       'Cumulative deaths', 'Cumulative death rate', 'Last updated_x',\n",
       "       'Confirmed deaths', 'Probable deaths', 'Confirmed and probable deaths',\n",
       "       'Confirmed cases', 'Probable cases', 'Confirmed and probable cases',\n",
       "       'Last updated_y'],\n",
       "      dtype='object')"
      ]
     },
     "execution_count": 100,
     "metadata": {},
     "output_type": "execute_result"
    }
   ],
   "source": [
    "covid_deaths_demographics_df.columns"
   ]
  },
  {
   "cell_type": "code",
   "execution_count": 101,
   "metadata": {},
   "outputs": [],
   "source": [
    "covid_deaths_demographics_df.drop(['Season','Probable deaths', 'Confirmed and probable deaths',\n",
    "                    'Probable cases', 'Confirmed and probable cases','Last updated_y', 'Last updated_x'], axis=1, inplace=True)"
   ]
  },
  {
   "cell_type": "code",
   "execution_count": 102,
   "metadata": {},
   "outputs": [
    {
     "data": {
      "text/plain": [
       "(680, 16)"
      ]
     },
     "execution_count": 102,
     "metadata": {},
     "output_type": "execute_result"
    }
   ],
   "source": [
    "covid_deaths_demographics_df.shape"
   ]
  },
  {
   "cell_type": "code",
   "execution_count": 103,
   "metadata": {},
   "outputs": [
    {
     "data": {
      "text/plain": [
       "Index(['Week Start Date', 'Week End Date', 'Group', 'Subgroup',\n",
       "       'Estimated population', 'Percent of the population',\n",
       "       'Cases during this week', 'Week case rate', 'Cumulative cases',\n",
       "       'Cumulative case rate', 'Deaths during this week', 'Week death rate',\n",
       "       'Cumulative deaths', 'Cumulative death rate', 'Confirmed deaths',\n",
       "       'Confirmed cases'],\n",
       "      dtype='object')"
      ]
     },
     "execution_count": 103,
     "metadata": {},
     "output_type": "execute_result"
    }
   ],
   "source": [
    "#Columns in Covid-19 dataset\n",
    "covid_deaths_demographics_df.columns"
   ]
  },
  {
   "cell_type": "code",
   "execution_count": 104,
   "metadata": {},
   "outputs": [],
   "source": [
    "respiratory_df.drop(['Visit type_x','Last updated_x', 'Season',  'Last updated_y'], axis=1, inplace=True)"
   ]
  },
  {
   "cell_type": "code",
   "execution_count": 105,
   "metadata": {},
   "outputs": [
    {
     "data": {
      "text/plain": [
       "(68260, 17)"
      ]
     },
     "execution_count": 105,
     "metadata": {},
     "output_type": "execute_result"
    }
   ],
   "source": [
    "respiratory_df.shape"
   ]
  },
  {
   "cell_type": "code",
   "execution_count": 106,
   "metadata": {},
   "outputs": [
    {
     "data": {
      "text/plain": [
       "Index(['Week Start Date', 'Week End Date', 'Hospital County',\n",
       "       'Percent of visits for acute respiratory diseases',\n",
       "       'Percent of visits for COVID-19', 'Percent of visits for influenza',\n",
       "       'Percent of visits for RSV', 'MMWR Week', 'Visit type_y', 'Group',\n",
       "       'Subgroup', 'Population',\n",
       "       'Rate of acute respiratory visits (per 100,000 residents)',\n",
       "       'Rate of COVID visit per 100,000', 'Rate of RSV visits per 100,000',\n",
       "       'Rate of Influenza visits per 100,000',\n",
       "       'Number of acute respiratory visits by out of state patients'],\n",
       "      dtype='object')"
      ]
     },
     "execution_count": 106,
     "metadata": {},
     "output_type": "execute_result"
    }
   ],
   "source": [
    "#Columns in Respiratory Data\n",
    "respiratory_df.columns"
   ]
  },
  {
   "cell_type": "code",
   "execution_count": 107,
   "metadata": {},
   "outputs": [],
   "source": [
    "# # Convert date columns to datetime objects\n",
    "# covid_mass_df['Week Start Date'] = pd.to_datetime(covid_mass_df['Week Start Date'])\n",
    "# covid_mass_df['Week End Date'] = pd.to_datetime(covid_mass_df['Week End Date'])\n",
    "# respiratory_df['Week Start Date'] = pd.to_datetime(respiratory_df['Week Start Date'])\n",
    "# respiratory_df['Week End Date'] = pd.to_datetime(respiratory_df['Week End Date'])\n",
    "# # Set Week Start Date and Week End Date as index for both DataFrames\n",
    "# covid_mass_df.set_index(['Week Start Date', 'Week End Date'], inplace=True)\n",
    "# respiratory_df.set_index(['Week Start Date', 'Week End Date'], inplace=True)"
   ]
  },
  {
   "cell_type": "code",
   "execution_count": 108,
   "metadata": {},
   "outputs": [],
   "source": [
    "# # Here, we use a left join to preserve all rows from df_covid\n",
    "# covid_resp_df = respiratory_df.join(covid_mass_df,  how='inner', lsuffix='_respiratory', rsuffix='_covid')"
   ]
  },
  {
   "cell_type": "code",
   "execution_count": 109,
   "metadata": {},
   "outputs": [
    {
     "data": {
      "text/plain": [
       "Week Start Date                0\n",
       "Week End Date                  0\n",
       "Group                          0\n",
       "Subgroup                       0\n",
       "Estimated population         170\n",
       "Percent of the population    170\n",
       "Cases during this week         0\n",
       "Week case rate               210\n",
       "Cumulative cases              40\n",
       "Cumulative case rate         178\n",
       "Deaths during this week        0\n",
       "Week death rate              171\n",
       "Cumulative deaths              0\n",
       "Cumulative death rate        202\n",
       "Confirmed deaths               0\n",
       "Confirmed cases                0\n",
       "dtype: int64"
      ]
     },
     "execution_count": 109,
     "metadata": {},
     "output_type": "execute_result"
    }
   ],
   "source": [
    "#Data Cleaning\n",
    "covid_deaths_demographics_df['Week Start Date'] = pd.to_datetime(covid_deaths_demographics_df['Week Start Date'])\n",
    "covid_deaths_demographics_df['Week End Date'] = pd.to_datetime(covid_deaths_demographics_df['Week End Date'])\n",
    "# Replace \"*\" with NaN to treat them as missing values\n",
    "covid_deaths_demographics_df.replace(\"**\", pd.NA, inplace=True)\n",
    "covid_deaths_demographics_df.replace(\"*\", pd.NA, inplace=True)\n",
    "covid_deaths_demographics_df.isnull().sum()"
   ]
  },
  {
   "cell_type": "code",
   "execution_count": 110,
   "metadata": {},
   "outputs": [],
   "source": [
    "# Convert numerical columns to float\n",
    "numeric_cols = covid_deaths_demographics_df.select_dtypes(include=['number']).columns\n",
    "covid_deaths_demographics_df[numeric_cols] = covid_deaths_demographics_df[numeric_cols].astype(float)"
   ]
  },
  {
   "cell_type": "code",
   "execution_count": 114,
   "metadata": {},
   "outputs": [],
   "source": [
    "import pandas as pd\n",
    "\n",
    "# Convert columns to float, replacing missing values with a default value (e.g., 0)\n",
    "covid_deaths_demographics_df['Estimated population'] = covid_deaths_demographics_df['Estimated population'].fillna(0).astype(float)\n",
    "covid_deaths_demographics_df['Percent of the population'] = covid_deaths_demographics_df['Percent of the population'].fillna(0).astype(float)\n",
    "covid_deaths_demographics_df['Week case rate'] = covid_deaths_demographics_df['Week case rate'].fillna(0).astype(float)\n",
    "covid_deaths_demographics_df['Cumulative cases'] = covid_deaths_demographics_df['Cumulative cases'].fillna(0).astype(float)\n",
    "# covid_deaths_demographics_df['Cases during this week'] = covid_deaths_demographics_df['Cases during this week'].fillna(0).astype(float)\n",
    "covid_deaths_demographics_df['Cumulative case rate'] = covid_deaths_demographics_df['Cumulative case rate'].fillna(0).astype(float)\n",
    "covid_deaths_demographics_df['Week death rate'] = covid_deaths_demographics_df['Week death rate'].fillna(0).astype(float)\n",
    "# covid_deaths_demographics_df['Deaths during this week'] = covid_deaths_demographics_df['Deaths during this week'].fillna(0).astype(float)\n",
    "covid_deaths_demographics_df['Cumulative death rate'] = covid_deaths_demographics_df['Cumulative death rate'].fillna(0).astype(float)\n",
    "# covid_deaths_demographics_df['Cumulative deaths'] = covid_deaths_demographics_df['Cumulative deaths'].fillna(0).astype(float)\n",
    "covid_deaths_demographics_df['Confirmed cases'] = covid_deaths_demographics_df['Confirmed cases'].fillna(0).astype(float)\n",
    "covid_deaths_demographics_df['Confirmed deaths'] = covid_deaths_demographics_df['Confirmed deaths'].fillna(0).astype(float)\n",
    "# covid_deaths_demographics_df['Population'] = covid_deaths_demographics_df['Population'].fillna(0).astype(float)\n",
    "# covid_deaths_demographics_df['Week percent positivity'] = covid_deaths_demographics_df['Week percent positivity'].fillna(0).astype(float)\n",
    "# covid_deaths_demographics_df['Weekly case rate'] = covid_deaths_demographics_df['Weekly case rate'].fillna(0).astype(float)\n",
    "# covid_deaths_demographics_df['Weekly testing rate'] = covid_deaths_demographics_df['Weekly testing rate'].fillna(0).astype(float)"
   ]
  },
  {
   "cell_type": "code",
   "execution_count": 115,
   "metadata": {},
   "outputs": [
    {
     "data": {
      "text/plain": [
       "Week Start Date              0\n",
       "Week End Date                0\n",
       "Group                        0\n",
       "Subgroup                     0\n",
       "Estimated population         0\n",
       "Percent of the population    0\n",
       "Cases during this week       0\n",
       "Week case rate               0\n",
       "Cumulative cases             0\n",
       "Cumulative case rate         0\n",
       "Deaths during this week      0\n",
       "Week death rate              0\n",
       "Cumulative deaths            0\n",
       "Cumulative death rate        0\n",
       "Confirmed deaths             0\n",
       "Confirmed cases              0\n",
       "dtype: int64"
      ]
     },
     "execution_count": 115,
     "metadata": {},
     "output_type": "execute_result"
    }
   ],
   "source": [
    "# Group by Week Start Date and Week End Date, calculate the average, and fill missing values\n",
    "\n",
    "covid_deaths_demographics_df['Estimated population'] = covid_deaths_demographics_df.groupby(['Week Start Date', 'Week End Date'])['Estimated population'].transform(lambda x: x.fillna(x.mean()))\n",
    "covid_deaths_demographics_df['Percent of the population'] = covid_deaths_demographics_df.groupby(['Week Start Date', 'Week End Date'])['Percent of the population'].transform(lambda x: x.fillna(x.mean()))\n",
    "covid_deaths_demographics_df['Week case rate'] = covid_deaths_demographics_df.groupby(['Week Start Date', 'Week End Date'])['Week case rate'].transform(lambda x: x.fillna(x.mean()))\n",
    "covid_deaths_demographics_df['Cumulative cases'] = covid_deaths_demographics_df.groupby(['Week Start Date', 'Week End Date'])['Cumulative cases'].transform(lambda x: x.fillna(x.mean()))\n",
    "covid_deaths_demographics_df['Cumulative case rate'] = covid_deaths_demographics_df.groupby(['Week Start Date', 'Week End Date'])['Cumulative case rate'].transform(lambda x: x.fillna(x.mean()))\n",
    "covid_deaths_demographics_df['Week death rate'] = covid_deaths_demographics_df.groupby(['Week Start Date', 'Week End Date'])['Week death rate'].transform(lambda x: x.fillna(x.mean()))\n",
    "covid_deaths_demographics_df['Cumulative death rate'] = covid_deaths_demographics_df.groupby(['Week Start Date', 'Week End Date'])['Cumulative death rate'].transform(lambda x: x.fillna(x.mean()))\n",
    "# covid_mass_df['Population'] = covid_mass_df.groupby(['Week Start Date', 'Week End Date'])['Population'].transform(lambda x: x.fillna(x.mean()))\n",
    "# covid_mass_df['Week percent positivity'] = covid_mass_df.groupby(['Week Start Date', 'Week End Date'])['Week percent positivity'].transform(lambda x: x.fillna(x.mean()))\n",
    "# covid_mass_df['Weekly case rate'] = covid_mass_df.groupby(['Week Start Date', 'Week End Date'])['Weekly case rate'].transform(lambda x: x.fillna(x.mean()))\n",
    "# covid_mass_df['Weekly testing rate'] = covid_mass_df.groupby(['Week Start Date', 'Week End Date'])['Weekly testing rate'].transform(lambda x: x.fillna(x.mean()))\n",
    "covid_deaths_demographics_df.isnull().sum()"
   ]
  },
  {
   "cell_type": "code",
   "execution_count": 116,
   "metadata": {},
   "outputs": [],
   "source": [
    "#Save the cleaned dataset\n",
    "covid_deaths_demographics_df.to_csv('/Users/omkarsadekar/Documents/NEU Study Material/NEU Study Material/Healthcare Data and Applications/Project Datasets/Cleaned_data/covid_mass_df_cleaned.csv', index=False)"
   ]
  },
  {
   "cell_type": "code",
   "execution_count": 117,
   "metadata": {},
   "outputs": [
    {
     "data": {
      "text/plain": [
       "Week Start Date                                                    0\n",
       "Week End Date                                                      0\n",
       "Hospital County                                                    0\n",
       "Percent of visits for acute respiratory diseases                   0\n",
       "Percent of visits for COVID-19                                     0\n",
       "Percent of visits for influenza                                    0\n",
       "Percent of visits for RSV                                          0\n",
       "MMWR Week                                                          0\n",
       "Visit type_y                                                       0\n",
       "Group                                                              0\n",
       "Subgroup                                                           0\n",
       "Population                                                      9360\n",
       "Rate of acute respiratory visits (per 100,000 residents)        9360\n",
       "Rate of COVID visit per 100,000                                    0\n",
       "Rate of RSV visits per 100,000                                     0\n",
       "Rate of Influenza visits per 100,000                               0\n",
       "Number of acute respiratory visits by out of state patients    66360\n",
       "dtype: int64"
      ]
     },
     "execution_count": 117,
     "metadata": {},
     "output_type": "execute_result"
    }
   ],
   "source": [
    "#Data Cleaning for Respiratory Data\n",
    "respiratory_df['Week Start Date'] = pd.to_datetime(respiratory_df['Week Start Date'])\n",
    "respiratory_df['Week End Date'] = pd.to_datetime(respiratory_df['Week End Date'])\n",
    "respiratory_df.isnull().sum()\n"
   ]
  },
  {
   "cell_type": "code",
   "execution_count": 118,
   "metadata": {},
   "outputs": [
    {
     "data": {
      "text/plain": [
       "Week Start Date                                                    0\n",
       "Week End Date                                                      0\n",
       "Hospital County                                                    0\n",
       "Percent of visits for acute respiratory diseases                   0\n",
       "Percent of visits for COVID-19                                     0\n",
       "Percent of visits for influenza                                    0\n",
       "Percent of visits for RSV                                          0\n",
       "MMWR Week                                                          0\n",
       "Visit type_y                                                       0\n",
       "Group                                                              0\n",
       "Subgroup                                                           0\n",
       "Population                                                      9360\n",
       "Rate of acute respiratory visits (per 100,000 residents)       12297\n",
       "Rate of COVID visit per 100,000                                13021\n",
       "Rate of RSV visits per 100,000                                 10897\n",
       "Rate of Influenza visits per 100,000                           11120\n",
       "Number of acute respiratory visits by out of state patients    66360\n",
       "dtype: int64"
      ]
     },
     "execution_count": 118,
     "metadata": {},
     "output_type": "execute_result"
    }
   ],
   "source": [
    "# Convert numerical columns to float\n",
    "numeric_cols = respiratory_df.select_dtypes(include=['number']).columns\n",
    "respiratory_df[numeric_cols] = respiratory_df[numeric_cols].astype(float)\n",
    "# Replace \"*\" with NaN to treat them as missing values\n",
    "respiratory_df.replace(\"**\", pd.NA, inplace=True)\n",
    "respiratory_df.replace(\"*\", pd.NA, inplace=True)\n",
    "respiratory_df.isnull().sum()"
   ]
  },
  {
   "cell_type": "code",
   "execution_count": 119,
   "metadata": {},
   "outputs": [
    {
     "data": {
      "text/plain": [
       "Week Start Date                                                0\n",
       "Week End Date                                                  0\n",
       "Hospital County                                                0\n",
       "Percent of visits for acute respiratory diseases               0\n",
       "Percent of visits for COVID-19                                 0\n",
       "Percent of visits for influenza                                0\n",
       "Percent of visits for RSV                                      0\n",
       "MMWR Week                                                      0\n",
       "Visit type_y                                                   0\n",
       "Group                                                          0\n",
       "Subgroup                                                       0\n",
       "Population                                                     0\n",
       "Rate of acute respiratory visits (per 100,000 residents)       0\n",
       "Rate of COVID visit per 100,000                                0\n",
       "Rate of RSV visits per 100,000                                 0\n",
       "Rate of Influenza visits per 100,000                           0\n",
       "Number of acute respiratory visits by out of state patients    0\n",
       "dtype: int64"
      ]
     },
     "execution_count": 119,
     "metadata": {},
     "output_type": "execute_result"
    }
   ],
   "source": [
    "# Convert columns to float, replacing missing values with a default value (e.g., 0)\n",
    "respiratory_df['Population'] = respiratory_df['Population'].fillna(0).astype(float)\n",
    "respiratory_df['Rate of acute respiratory visits (per 100,000 residents)'] = respiratory_df['Rate of acute respiratory visits (per 100,000 residents)'].fillna(0).astype(float)\n",
    "respiratory_df['Rate of COVID visit per 100,000'] = respiratory_df['Rate of COVID visit per 100,000'].fillna(0).astype(float)\n",
    "respiratory_df['Rate of RSV visits per 100,000'] = respiratory_df['Rate of RSV visits per 100,000'].fillna(0).astype(float)\n",
    "respiratory_df['Rate of Influenza visits per 100,000'] = respiratory_df['Rate of Influenza visits per 100,000'].fillna(0).astype(float)\n",
    "respiratory_df['Number of acute respiratory visits by out of state patients'] = respiratory_df['Number of acute respiratory visits by out of state patients'].fillna(0).astype(float)\n",
    "# Group by Week Start Date and Week End Date, calculate the average, and fill missing values\n",
    "\n",
    "respiratory_df['Population'] = respiratory_df.groupby(['Week Start Date', 'Week End Date'])['Population'].transform(lambda x: x.fillna(x.mean()))\n",
    "respiratory_df['Rate of acute respiratory visits (per 100,000 residents)'] = respiratory_df.groupby(['Week Start Date', 'Week End Date'])['Rate of acute respiratory visits (per 100,000 residents)'].transform(lambda x: x.fillna(x.mean()))\n",
    "respiratory_df['Rate of COVID visit per 100,000'] = respiratory_df.groupby(['Week Start Date', 'Week End Date'])['Rate of COVID visit per 100,000'].transform(lambda x: x.fillna(x.mean()))\n",
    "respiratory_df['Rate of RSV visits per 100,000'] = respiratory_df.groupby(['Week Start Date', 'Week End Date'])['Rate of RSV visits per 100,000'].transform(lambda x: x.fillna(x.mean()))\n",
    "respiratory_df['Number of acute respiratory visits by out of state patients'] = respiratory_df.groupby(['Week Start Date', 'Week End Date'])['Number of acute respiratory visits by out of state patients'].transform(lambda x: x.fillna(x.mean()))\n",
    "respiratory_df.isnull().sum()"
   ]
  },
  {
   "cell_type": "code",
   "execution_count": 120,
   "metadata": {},
   "outputs": [],
   "source": [
    "#Save the cleaned dataset\n",
    "respiratory_df.to_csv('/Users/omkarsadekar/Documents/NEU Study Material/NEU Study Material/Healthcare Data and Applications/Project Datasets/Cleaned_data/respiratory_df_cleaned.csv', index=False)"
   ]
  },
  {
   "cell_type": "code",
   "execution_count": null,
   "metadata": {},
   "outputs": [],
   "source": []
  }
 ],
 "metadata": {
  "kernelspec": {
   "display_name": "venv",
   "language": "python",
   "name": "python3"
  },
  "language_info": {
   "codemirror_mode": {
    "name": "ipython",
    "version": 3
   },
   "file_extension": ".py",
   "mimetype": "text/x-python",
   "name": "python",
   "nbconvert_exporter": "python",
   "pygments_lexer": "ipython3",
   "version": "3.11.5"
  },
  "orig_nbformat": 4
 },
 "nbformat": 4,
 "nbformat_minor": 2
}
