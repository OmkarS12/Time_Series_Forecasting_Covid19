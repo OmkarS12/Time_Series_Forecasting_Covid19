{
 "cells": [
  {
   "cell_type": "code",
   "execution_count": 7,
   "metadata": {},
   "outputs": [],
   "source": [
    "import pandas as pd\n",
    "import numpy as np\n",
    "\n",
    "# Reading the Dataset from covid-19-dashboard(Massachusetts)\n",
    "covid_19 = pd.ExcelFile('/Users/omkarsadekar/Documents/NEU Study Material/NEU Study Material/Healthcare Data and Applications/Project Datasets/covid-19-dashboard-02-29-24.xlsx')\n",
    "#Reading the Datasets from respiratory disease data reporting dashboard\n",
    "respiratory_data = pd.ExcelFile('/Users/omkarsadekar/Documents/NEU Study Material/NEU Study Material/Healthcare Data and Applications/Project Datasets/respiratory-disease-data-reporting-02-29-24.xlsx')\n",
    "#Reading the datasets from \n",
    "#Create dataframes for each sheet\n",
    "df_cv_Week = pd.read_excel(covid_19, 'Weekly Cases and Deaths')\n",
    "df_cv_Case_Death_Demographics = pd.read_excel(covid_19, 'Case and Death Demographics')\n",
    "df_cv_county = pd.read_excel(covid_19, 'County Data')\n",
    "df_cv_city = pd.read_excel(covid_19, 'City and Town Data') \n",
    "df_visits = pd.read_excel(respiratory_data, 'Visits by week')\n",
    "df_season = pd.read_excel(respiratory_data, 'Previous Seasons by Week')\n",
    "df_patient_demographics = pd.read_excel(respiratory_data, 'Data by Patient Demographics')\n",
    "df_historic_demographics = pd.read_excel(respiratory_data, 'Historic demographic data')\n",
    "df_visits_by_county = pd.read_excel(respiratory_data, 'Visits by Hospital County')"
   ]
  },
  {
   "cell_type": "code",
   "execution_count": 8,
   "metadata": {},
   "outputs": [],
   "source": [
    "# #Save the csv files\n",
    "# df_cv_Week.to_csv('/Users/omkarsadekar/Documents/NEU Study Material/NEU Study Material/Healthcare Data and Applications/Project Datasets/Mass_Data/covid_19_Week.csv', index=False)\n",
    "# df_cv_Case_Death_Demographics.to_csv('/Users/omkarsadekar/Documents/NEU Study Material/NEU Study Material/Healthcare Data and Applications/Project Datasets/Mass_Data/covid_19_Case_Death_Demographics.csv', index=False)\n",
    "# df_cv_county.to_csv('/Users/omkarsadekar/Documents/NEU Study Material/NEU Study Material/Healthcare Data and Applications/Project Datasets/Mass_Data/covid_19_county.csv', index=False)\n",
    "# df_cv_city.to_csv('/Users/omkarsadekar/Documents/NEU Study Material/NEU Study Material/Healthcare Data and Applications/Project Datasets/Mass_Data/covid_19_city.csv', index=False)\n",
    "# df_visits.to_csv('/Users/omkarsadekar/Documents/NEU Study Material/NEU Study Material/Healthcare Data and Applications/Project Datasets/Mass_Data/respiratory_visits.csv', index=False)\n",
    "# df_season.to_csv('/Users/omkarsadekar/Documents/NEU Study Material/NEU Study Material/Healthcare Data and Applications/Project Datasets/Mass_Data/respiratory_season.csv', index=False)\n",
    "# df_patient_demographics.to_csv('/Users/omkarsadekar/Documents/NEU Study Material/NEU Study Material/Healthcare Data and Applications/Project Datasets/Mass_Data/respiratory_patient_demographics.csv', index=False)\n",
    "# df_historic_demographics.to_csv('/Users/omkarsadekar/Documents/NEU Study Material/NEU Study Material/Healthcare Data and Applications/Project Datasets/Mass_Data/respiratory_historic_demographics.csv', index=False)\n",
    "# df_visits_by_county.to_csv('/Users/omkarsadekar/Documents/NEU Study Material/NEU Study Material/Healthcare Data and Applications/Project Datasets/Mass_Data/respiratory_visits_by_county.csv', index=False)\n"
   ]
  },
  {
   "cell_type": "code",
   "execution_count": 9,
   "metadata": {},
   "outputs": [],
   "source": [
    "#Merge the datasets\n",
    "#Merge the covid-19 datasets\n",
    "covid_deaths_demographics_df = pd.merge(df_cv_Case_Death_Demographics, df_cv_Week, \n",
    "              on=['Week Start Date', 'Week End Date'],\n",
    "              how = 'left')\n",
    "covid_mass_df = pd.merge(covid_deaths_demographics_df, df_cv_county,\n",
    "                         on = ['Week Start Date', 'Week End Date'],\n",
    "                         how = 'left')"
   ]
  },
  {
   "cell_type": "code",
   "execution_count": 14,
   "metadata": {},
   "outputs": [],
   "source": [
    "# #Save covid-19 merged dataset\n",
    "# covid_mass_df.to_csv('/Users/omkarsadekar/Documents/NEU Study Material/NEU Study Material/Healthcare Data and Applications/Project Datasets/Mass_Data/covid_mass_df.csv', index=False)"
   ]
  },
  {
   "cell_type": "code",
   "execution_count": 15,
   "metadata": {},
   "outputs": [],
   "source": [
    "#Merge the respiratory datasets\n",
    "respiratory_df = pd.merge(df_visits_by_county, df_patient_demographics,\n",
    "                            on = ['Week Start Date', 'Week End Date'],\n",
    "                            how = 'left')\n",
    "# respiratory_df.to_csv('/Users/omkarsadekar/Documents/NEU Study Material/NEU Study Material/Healthcare Data and Applications/Project Datasets/Mass_Data/respiratory_df.csv', index=False)\n"
   ]
  },
  {
   "cell_type": "code",
   "execution_count": 18,
   "metadata": {},
   "outputs": [
    {
     "data": {
      "text/plain": [
       "(68260, 21)"
      ]
     },
     "execution_count": 18,
     "metadata": {},
     "output_type": "execute_result"
    }
   ],
   "source": [
    "respiratory_df.shape"
   ]
  },
  {
   "cell_type": "code",
   "execution_count": 19,
   "metadata": {},
   "outputs": [
    {
     "data": {
      "text/plain": [
       "(10200, 35)"
      ]
     },
     "execution_count": 19,
     "metadata": {},
     "output_type": "execute_result"
    }
   ],
   "source": [
    "covid_mass_df.shape"
   ]
  },
  {
   "cell_type": "code",
   "execution_count": 30,
   "metadata": {},
   "outputs": [],
   "source": [
    "covid_mass_df.drop(['Season_x','Last updated_x','Probable deaths', 'Confirmed and probable deaths',\n",
    "                    'Probable cases', 'Confirmed and probable cases','Last updated_y', 'Season_y',\n",
    "                     'Last updated' ], axis=1, inplace=True)"
   ]
  },
  {
   "cell_type": "code",
   "execution_count": 31,
   "metadata": {},
   "outputs": [
    {
     "data": {
      "text/plain": [
       "(10200, 26)"
      ]
     },
     "execution_count": 31,
     "metadata": {},
     "output_type": "execute_result"
    }
   ],
   "source": [
    "covid_mass_df.shape"
   ]
  },
  {
   "cell_type": "code",
   "execution_count": 38,
   "metadata": {},
   "outputs": [
    {
     "data": {
      "text/plain": [
       "Index(['Week Start Date', 'Week End Date', 'Group', 'Subgroup',\n",
       "       'Estimated population', 'Percent of the population',\n",
       "       'Cases during this week_x', 'Week case rate', 'Cumulative cases',\n",
       "       'Cumulative case rate', 'Deaths during this week', 'Week death rate',\n",
       "       'Cumulative deaths', 'Cumulative death rate', 'Confirmed deaths',\n",
       "       'Confirmed cases', 'County', 'Population', 'Cases during this week_y',\n",
       "       'Cumulative confirmed cases', 'Cumulative tests',\n",
       "       'Tests during the week', 'Positive tests the week',\n",
       "       'Week percent positivity', 'Weekly case rate', 'Weekly testing rate'],\n",
       "      dtype='object')"
      ]
     },
     "execution_count": 38,
     "metadata": {},
     "output_type": "execute_result"
    }
   ],
   "source": [
    "#Columns in Covid-19 dataset\n",
    "covid_mass_df.columns"
   ]
  },
  {
   "cell_type": "code",
   "execution_count": 32,
   "metadata": {},
   "outputs": [],
   "source": [
    "respiratory_df.drop(['Visit type_x','Last updated_x', 'Season',  'Last updated_y'], axis=1, inplace=True)"
   ]
  },
  {
   "cell_type": "code",
   "execution_count": 33,
   "metadata": {},
   "outputs": [
    {
     "data": {
      "text/plain": [
       "(68260, 17)"
      ]
     },
     "execution_count": 33,
     "metadata": {},
     "output_type": "execute_result"
    }
   ],
   "source": [
    "respiratory_df.shape"
   ]
  },
  {
   "cell_type": "code",
   "execution_count": 37,
   "metadata": {},
   "outputs": [
    {
     "data": {
      "text/plain": [
       "Index(['Week Start Date', 'Week End Date', 'Hospital County',\n",
       "       'Percent of visits for acute respiratory diseases',\n",
       "       'Percent of visits for COVID-19', 'Percent of visits for influenza',\n",
       "       'Percent of visits for RSV', 'MMWR Week', 'Visit type_y', 'Group',\n",
       "       'Subgroup', 'Population',\n",
       "       'Rate of acute respiratory visits (per 100,000 residents)',\n",
       "       'Rate of COVID visit per 100,000', 'Rate of RSV visits per 100,000',\n",
       "       'Rate of Influenza visits per 100,000',\n",
       "       'Number of acute respiratory visits by out of state patients'],\n",
       "      dtype='object')"
      ]
     },
     "execution_count": 37,
     "metadata": {},
     "output_type": "execute_result"
    }
   ],
   "source": [
    "#Columns in Respiratory Data\n",
    "respiratory_df.columns"
   ]
  },
  {
   "cell_type": "code",
   "execution_count": 34,
   "metadata": {},
   "outputs": [],
   "source": [
    "# #Merge the covid-19 and respiratory datasets\n",
    "covid_respiratory_df = pd.merge(respiratory_df, covid_mass_df\n",
    "                                on = ['Week Start Date', 'Week End Date'],\n",
    "                                how = 'left')"
   ]
  },
  {
   "cell_type": "code",
   "execution_count": 35,
   "metadata": {},
   "outputs": [
    {
     "data": {
      "text/plain": [
       "(20478000, 41)"
      ]
     },
     "execution_count": 35,
     "metadata": {},
     "output_type": "execute_result"
    }
   ],
   "source": [
    "covid_respiratory_df.shape"
   ]
  },
  {
   "cell_type": "code",
   "execution_count": 36,
   "metadata": {},
   "outputs": [
    {
     "data": {
      "text/plain": [
       "Index(['Week Start Date', 'Week End Date', 'Group_x', 'Subgroup_x',\n",
       "       'Estimated population', 'Percent of the population',\n",
       "       'Cases during this week_x', 'Week case rate', 'Cumulative cases',\n",
       "       'Cumulative case rate', 'Deaths during this week', 'Week death rate',\n",
       "       'Cumulative deaths', 'Cumulative death rate', 'Confirmed deaths',\n",
       "       'Confirmed cases', 'County', 'Population_x', 'Cases during this week_y',\n",
       "       'Cumulative confirmed cases', 'Cumulative tests',\n",
       "       'Tests during the week', 'Positive tests the week',\n",
       "       'Week percent positivity', 'Weekly case rate', 'Weekly testing rate',\n",
       "       'Hospital County', 'Percent of visits for acute respiratory diseases',\n",
       "       'Percent of visits for COVID-19', 'Percent of visits for influenza',\n",
       "       'Percent of visits for RSV', 'MMWR Week', 'Visit type_y', 'Group_y',\n",
       "       'Subgroup_y', 'Population_y',\n",
       "       'Rate of acute respiratory visits (per 100,000 residents)',\n",
       "       'Rate of COVID visit per 100,000', 'Rate of RSV visits per 100,000',\n",
       "       'Rate of Influenza visits per 100,000',\n",
       "       'Number of acute respiratory visits by out of state patients'],\n",
       "      dtype='object')"
      ]
     },
     "execution_count": 36,
     "metadata": {},
     "output_type": "execute_result"
    }
   ],
   "source": [
    "#Check for duplicates\n",
    "covid_respiratory_df.columns"
   ]
  },
  {
   "cell_type": "code",
   "execution_count": null,
   "metadata": {},
   "outputs": [],
   "source": []
  }
 ],
 "metadata": {
  "kernelspec": {
   "display_name": "venv",
   "language": "python",
   "name": "python3"
  },
  "language_info": {
   "codemirror_mode": {
    "name": "ipython",
    "version": 3
   },
   "file_extension": ".py",
   "mimetype": "text/x-python",
   "name": "python",
   "nbconvert_exporter": "python",
   "pygments_lexer": "ipython3",
   "version": "3.11.5"
  },
  "orig_nbformat": 4
 },
 "nbformat": 4,
 "nbformat_minor": 2
}
